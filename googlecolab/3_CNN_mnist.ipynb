{
  "nbformat": 4,
  "nbformat_minor": 0,
  "metadata": {
    "colab": {
      "provenance": [],
      "gpuType": "T4"
    },
    "kernelspec": {
      "name": "python3",
      "display_name": "Python 3"
    },
    "language_info": {
      "name": "python"
    },
    "accelerator": "GPU"
  },
  "cells": [
    {
      "cell_type": "markdown",
      "source": [
        "# Convolutional Neural Network\n",
        "- MNIST data\n",
        "- 3 convolutional layers\n",
        "- 2 fully connected layers"
      ],
      "metadata": {
        "id": "UJexVWvy97l9"
      }
    },
    {
      "cell_type": "code",
      "execution_count": 2,
      "metadata": {
        "id": "V7QQhoI79mlI"
      },
      "outputs": [],
      "source": [
        "# 1. Settings\n",
        "# 1) import required libraries\n",
        "import numpy as np\n",
        "import torch\n",
        "import torch.nn as nn\n",
        "import torch.optim as optim\n",
        "import torch.nn.init as init\n",
        "import torchvision.datasets as dset\n",
        "import torchvision.transforms as transforms\n",
        "from torch.utils.data import DataLoader\n",
        "from torch.autograd import Variable, Function\n",
        "#from visdom import Visdom"
      ]
    },
    {
      "cell_type": "code",
      "source": [
        "class Swish(Function):\n",
        "  @staticmethod\n",
        "  def forward(ctx, i):\n",
        "    result = i * i.sigmoid() #경사도 구하는 함수\n",
        "    ctx.save_for_backward(result, i)\n",
        "    return result\n",
        "\n",
        "  @staticmethod\n",
        "  def backward(ctx, grad_output):\n",
        "    result, i =ctx.saved_variables\n",
        "    sigmoid_x = i.sigmoid()\n",
        "    return grad_output * (result + sigmoid_x * (1-result))\n",
        "\n",
        "swish = Swish.apply"
      ],
      "metadata": {
        "id": "n5Ve7k6J_sl2"
      },
      "execution_count": 5,
      "outputs": []
    },
    {
      "cell_type": "code",
      "source": [
        "class Swish_module(nn.Module):\n",
        "  def forward(self, x):\n",
        "    return swish(x)\n",
        "\n",
        "swish_layer = Swish_module()"
      ],
      "metadata": {
        "id": "e_hdhhfNAvb9"
      },
      "execution_count": 6,
      "outputs": []
    },
    {
      "cell_type": "code",
      "source": [
        "# 2) Set hyperparameters\n",
        "\n",
        "batch_size = 256\n",
        "learning_rate = 0.0002\n",
        "num_epoch = 2"
      ],
      "metadata": {
        "id": "NGudPtyhBFbg"
      },
      "execution_count": 27,
      "outputs": []
    },
    {
      "cell_type": "code",
      "source": [
        "# 2. Data\n",
        "# Download Data\n",
        "\n",
        "mnist_train = dset.MNIST(\"./\", train=True, transform=transforms.ToTensor(), target_transform=None, download=True)\n",
        "mnist_test = dset.MNIST(\"./\", train=False, transform=transforms.ToTensor(), target_transform=None, download=True)"
      ],
      "metadata": {
        "id": "qMoQ95PTBbTt"
      },
      "execution_count": 21,
      "outputs": []
    },
    {
      "cell_type": "code",
      "source": [
        "# 2) Check Dataset\n",
        "print(mnist_train.__getitem__(0)[0].size(), mnist_train.__len__())\n",
        "mnist_test.__getitem__(0)[0].size(), mnist_test.__len__()"
      ],
      "metadata": {
        "colab": {
          "base_uri": "https://localhost:8080/"
        },
        "id": "gsUi1iMkCr-k",
        "outputId": "fb636dd2-a898-42b2-a260-33aba0ddb3b4"
      },
      "execution_count": 22,
      "outputs": [
        {
          "output_type": "stream",
          "name": "stdout",
          "text": [
            "torch.Size([1, 28, 28]) 60000\n"
          ]
        },
        {
          "output_type": "execute_result",
          "data": {
            "text/plain": [
              "(torch.Size([1, 28, 28]), 10000)"
            ]
          },
          "metadata": {},
          "execution_count": 22
        }
      ]
    },
    {
      "cell_type": "code",
      "source": [
        "# 3) Set DataLoader\n",
        "\n",
        "train_loader = torch.utils.data.DataLoader(mnist_train, batch_size=batch_size, shuffle=True, num_workers=2, drop_last=True)\n",
        "test_loader = torch.utils.data.DataLoader(mnist_test, batch_size=batch_size, shuffle=False, num_workers=2, drop_last=True)"
      ],
      "metadata": {
        "id": "xxzZZ2YLDl8V"
      },
      "execution_count": 23,
      "outputs": []
    },
    {
      "cell_type": "code",
      "source": [
        "# 1) CNN Model\n",
        "\n",
        "class CNN(nn.Module):\n",
        "  def __init__(self):\n",
        "    super(CNN, self).__init__()\n",
        "    self.layer = nn.Sequential(\n",
        "        nn.Conv2d(1, 16, 5),\n",
        "        #nn.ReLU(),\n",
        "        swish_layer,\n",
        "        nn.Conv2d(16, 32, 5),\n",
        "        #nn.ReLU(),\n",
        "        swish_layer,\n",
        "        nn.MaxPool2d(2, 2),\n",
        "        nn.Conv2d(32, 64, 5),\n",
        "        #nn.ReLU(),\n",
        "        swish_layer,\n",
        "        nn.MaxPool2d(2, 2)\n",
        "    )\n",
        "    self.fc_layer = nn.Sequential(\n",
        "        nn.Linear(64 * 3 * 3, 100),\n",
        "        swish_layer,\n",
        "        nn.Linear(100,10)\n",
        "    )\n",
        "\n",
        "  # method\n",
        "  def forward(self,x):\n",
        "    out = self.layer(x)\n",
        "    out = out.view(batch_size, -1)\n",
        "    out = self.fc_layer(out)\n",
        "\n",
        "    return out\n",
        "\n",
        "model = CNN().cuda()"
      ],
      "metadata": {
        "id": "dsnDX8pxEvu9"
      },
      "execution_count": 25,
      "outputs": []
    },
    {
      "cell_type": "code",
      "source": [
        "# 2) Loss func & Optimizer\n",
        "\n",
        "loss_func = nn.CrossEntropyLoss()\n",
        "optimizer = torch.optim.Adam(model.parameters(), lr=learning_rate)"
      ],
      "metadata": {
        "id": "aqpt6aOaHce9"
      },
      "execution_count": 28,
      "outputs": []
    },
    {
      "cell_type": "code",
      "source": [
        "# 4. Train\n",
        "for i in range(num_epoch):\n",
        "  for j, [image, label] in enumerate(train_loader):\n",
        "    x = Variable(image).cuda()\n",
        "    y_ = Variable(label).cuda()\n",
        "\n",
        "    optimizer.zero_grad()\n",
        "    output = model.forward(x)\n",
        "    loss = loss_func(output, y_)\n",
        "    loss.backward()\n",
        "    optimizer.step()\n",
        "\n",
        "    if j % 1000 == 0:\n",
        "      print(loss)\n"
      ],
      "metadata": {
        "colab": {
          "base_uri": "https://localhost:8080/"
        },
        "id": "RierxYOtH2JU",
        "outputId": "358d8cad-9228-4ce5-b061-a9b208864708"
      },
      "execution_count": 29,
      "outputs": [
        {
          "output_type": "stream",
          "name": "stderr",
          "text": [
            "<ipython-input-5-69a143a65bd2>:10: DeprecationWarning: 'saved_variables' is deprecated; use 'saved_tensors'\n",
            "  result, i =ctx.saved_variables\n"
          ]
        },
        {
          "output_type": "stream",
          "name": "stdout",
          "text": [
            "tensor(2.2960, device='cuda:0', grad_fn=<NllLossBackward0>)\n",
            "tensor(0.2404, device='cuda:0', grad_fn=<NllLossBackward0>)\n"
          ]
        }
      ]
    },
    {
      "cell_type": "code",
      "source": [
        "# 5. Test\n",
        "\n",
        "correct = 0\n",
        "total = 0\n",
        "\n",
        "for image, label in test_loader:\n",
        "  x = Variable(image, volatile=True).cuda()\n",
        "  y_ = Variable(label).cuda()\n",
        "\n",
        "  output = model.forward(x)\n",
        "  _, output_index = torch.max(output, 1)\n",
        "\n",
        "  total += label.size(0)\n",
        "  correct += (output_index == y_).sum().float()\n",
        "\n",
        "print(\"Accuracy of Test Data : {}\".format(100*correct/total))"
      ],
      "metadata": {
        "colab": {
          "base_uri": "https://localhost:8080/"
        },
        "id": "GTL42TvtI3n1",
        "outputId": "6da44cec-9848-4d9c-c4ac-4a4e265c4237"
      },
      "execution_count": 30,
      "outputs": [
        {
          "output_type": "stream",
          "name": "stderr",
          "text": [
            "<ipython-input-30-aed3046717f3>:7: UserWarning: volatile was removed and now has no effect. Use `with torch.no_grad():` instead.\n",
            "  x = Variable(image, volatile=True).cuda()\n"
          ]
        },
        {
          "output_type": "stream",
          "name": "stdout",
          "text": [
            "Accuracy of Test Data : 96.21394348144531\n"
          ]
        }
      ]
    }
  ]
}