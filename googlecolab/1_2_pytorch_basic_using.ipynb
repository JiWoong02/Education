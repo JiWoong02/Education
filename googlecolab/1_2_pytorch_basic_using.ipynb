{
  "nbformat": 4,
  "nbformat_minor": 0,
  "metadata": {
    "colab": {
      "provenance": [],
      "gpuType": "T4"
    },
    "kernelspec": {
      "name": "python3",
      "display_name": "Python 3"
    },
    "language_info": {
      "name": "python"
    },
    "accelerator": "GPU"
  },
  "cells": [
    {
      "cell_type": "markdown",
      "source": [
        "# PyTorch Tensor Basic Usage\n",
        "\n",
        "- Create Tensor\n",
        "- indexing, Joining, Slicing\n",
        "- Initialization\n",
        "- Math Operations"
      ],
      "metadata": {
        "id": "R_lTI_7mWoJR"
      }
    },
    {
      "cell_type": "code",
      "execution_count": 1,
      "metadata": {
        "colab": {
          "base_uri": "https://localhost:8080/"
        },
        "id": "GX--5IAsWBdc",
        "outputId": "ea7eca3d-21d4-4b6d-9dcd-e12271a7f0f6"
      },
      "outputs": [
        {
          "output_type": "execute_result",
          "data": {
            "text/plain": [
              "tensor([[0.1610, 0.3132, 0.4116],\n",
              "        [0.9738, 0.5551, 0.7632]])"
            ]
          },
          "metadata": {},
          "execution_count": 1
        }
      ],
      "source": [
        "# 1. Create Tensor\n",
        "# 1) random numbers\n",
        "import torch\n",
        "\n",
        "# torch.rand(sizes) --> (0,1) 사이의 실수형 값을 랜덤값으로 발생함\n",
        "# sizes : 1차원 갯수, 2차원 행렬갯수 등 지정\n",
        "# 0과 1사이의 실수형 숫자를 균등하게 생성\n",
        "x = torch.rand(2, 3)\n",
        "x"
      ]
    },
    {
      "cell_type": "code",
      "source": [
        "# torch.randn(sizes) --> Z(0,1)\n",
        "# 평균이 0이고 표준편차가 1인 가우시안 정규분포를 이용해서 생성 # numpy의 randn하고는 차이가 있다.\n",
        "x = torch.randn(2,3)\n",
        "x"
      ],
      "metadata": {
        "colab": {
          "base_uri": "https://localhost:8080/"
        },
        "id": "c6UkXAcCYith",
        "outputId": "c586877a-dc43-4ccb-d7ef-bb803f1e459a"
      },
      "execution_count": null,
      "outputs": [
        {
          "output_type": "execute_result",
          "data": {
            "text/plain": [
              "tensor([[ 0.6051, -0.1206,  0.0131],\n",
              "        [ 0.6021, -1.5659, -2.1001]])"
            ]
          },
          "metadata": {},
          "execution_count": 3
        }
      ]
    },
    {
      "cell_type": "code",
      "source": [
        "# torch.randperm(n) --> permutation of 0 ~ n\n",
        "x = torch.randperm(5)\n",
        "x"
      ],
      "metadata": {
        "colab": {
          "base_uri": "https://localhost:8080/"
        },
        "id": "r5PzQQ1bZEHo",
        "outputId": "2304d9b9-fe0a-4508-ea2b-d2ecc814b497"
      },
      "execution_count": null,
      "outputs": [
        {
          "output_type": "execute_result",
          "data": {
            "text/plain": [
              "tensor([4, 1, 0, 3, 2])"
            ]
          },
          "metadata": {},
          "execution_count": 4
        }
      ]
    },
    {
      "cell_type": "markdown",
      "source": [
        "# **torch 에서 랜덤값으로 텐서 생성 **\n",
        "1. torch.rand() : 0과 1사이의 숫자를 균등하게 생성\n",
        "2. torch.rand_like() : 사이즈를 튜플로 입력하지 않고 기존의 텐서로 정의\n",
        "3. torch.randn() : 평균이 0이고 표준편차가 1인 가우시안 정규분포를 이용해서 생성\n",
        "4. torch.randn_like() : 기존의 텐서를 사용해서 같은 텐서를 생성\n",
        "5. torch.randint() : 주어진 범위 내의 정수를 균등하게 생성\n",
        "6. torch.randint_like() : 텐서 이용, 같은 텐서 생성\n",
        "7. torch.randperm() : 주어진 범위 내의 정수를 랜덤하게 생성"
      ],
      "metadata": {
        "id": "yVTw3fG6Zj75"
      }
    },
    {
      "cell_type": "markdown",
      "source": [],
      "metadata": {
        "id": "nJCwsaOoySc2"
      }
    },
    {
      "cell_type": "markdown",
      "source": [
        "# 2) zeors, ones"
      ],
      "metadata": {
        "id": "G4XsRjpXyTH9"
      }
    },
    {
      "cell_type": "code",
      "source": [
        "# torch.zeros(2,3) ---> [[0,0,0], ..... [0,0,0]]\n",
        "x = torch.zeros(2,3)\n",
        "x"
      ],
      "metadata": {
        "colab": {
          "base_uri": "https://localhost:8080/"
        },
        "id": "iUYJ8ro1xwDH",
        "outputId": "2f752a28-d574-4e63-a7ee-ba7b77eef799"
      },
      "execution_count": 2,
      "outputs": [
        {
          "output_type": "execute_result",
          "data": {
            "text/plain": [
              "tensor([[0., 0., 0.],\n",
              "        [0., 0., 0.]])"
            ]
          },
          "metadata": {},
          "execution_count": 2
        }
      ]
    },
    {
      "cell_type": "code",
      "source": [
        "# torch.ones(2,3) --> [[1,1,1], .....[1,1,1]]\n",
        "x = torch.ones(2,3)\n",
        "x"
      ],
      "metadata": {
        "colab": {
          "base_uri": "https://localhost:8080/"
        },
        "id": "aFdOsfVMyxg1",
        "outputId": "9cc1663f-15b2-4e65-b1b2-04609624e80f"
      },
      "execution_count": 3,
      "outputs": [
        {
          "output_type": "execute_result",
          "data": {
            "text/plain": [
              "tensor([[1., 1., 1.],\n",
              "        [1., 1., 1.]])"
            ]
          },
          "metadata": {},
          "execution_count": 3
        }
      ]
    },
    {
      "cell_type": "code",
      "source": [
        "# torch.arange(start, end, step=1)\n",
        "x = torch.arange(0, 3, step=0.5)\n",
        "x"
      ],
      "metadata": {
        "colab": {
          "base_uri": "https://localhost:8080/"
        },
        "id": "-zXBMAjuzIgl",
        "outputId": "33f57400-e01e-4a6d-f378-6d3d9a965e4e"
      },
      "execution_count": 4,
      "outputs": [
        {
          "output_type": "execute_result",
          "data": {
            "text/plain": [
              "tensor([0.0000, 0.5000, 1.0000, 1.5000, 2.0000, 2.5000])"
            ]
          },
          "metadata": {},
          "execution_count": 4
        }
      ]
    },
    {
      "cell_type": "markdown",
      "source": [
        "# **3) Tensor Data Type**"
      ],
      "metadata": {
        "id": "qsKh7mGMzfbn"
      }
    },
    {
      "cell_type": "code",
      "source": [
        "# torch.FloatTensor(size or list)\n",
        "x = torch.FloatTensor(2, 3)\n",
        "x"
      ],
      "metadata": {
        "colab": {
          "base_uri": "https://localhost:8080/"
        },
        "id": "vwtFk67Kzmsw",
        "outputId": "769e1a63-1ae3-42f9-bb45-b9b540c6dd74"
      },
      "execution_count": 6,
      "outputs": [
        {
          "output_type": "execute_result",
          "data": {
            "text/plain": [
              "tensor([[-1.2308e+30,  4.4044e-41,  3.7870e+33],\n",
              "        [ 3.1692e-41,  4.4842e-44,  0.0000e+00]])"
            ]
          },
          "metadata": {},
          "execution_count": 6
        }
      ]
    },
    {
      "cell_type": "code",
      "source": [
        "x = torch.FloatTensor([12,35])\n",
        "x"
      ],
      "metadata": {
        "colab": {
          "base_uri": "https://localhost:8080/"
        },
        "id": "mxs0O4dz0GwM",
        "outputId": "ae42cf74-df85-4dc5-81ae-3f72c368d1f4"
      },
      "execution_count": 7,
      "outputs": [
        {
          "output_type": "execute_result",
          "data": {
            "text/plain": [
              "tensor([12., 35.])"
            ]
          },
          "metadata": {},
          "execution_count": 7
        }
      ]
    },
    {
      "cell_type": "code",
      "source": [
        "# tensor.type_as(tensor_type)\n",
        "# 기존 텐서의 값의 자료형을 바꿀 때 사용\n",
        "x = x.type_as(torch.IntTensor())\n",
        "x"
      ],
      "metadata": {
        "colab": {
          "base_uri": "https://localhost:8080/"
        },
        "id": "67UzX3zk0Q3N",
        "outputId": "e5d75956-f87d-4271-97a9-a535f50c2911"
      },
      "execution_count": 8,
      "outputs": [
        {
          "output_type": "execute_result",
          "data": {
            "text/plain": [
              "tensor([12, 35], dtype=torch.int32)"
            ]
          },
          "metadata": {},
          "execution_count": 8
        }
      ]
    },
    {
      "cell_type": "markdown",
      "source": [
        "# **4) Numpy to Tensor, Tensor to Numpy**"
      ],
      "metadata": {
        "id": "4IGXzNL90zKs"
      }
    },
    {
      "cell_type": "code",
      "source": [
        "import numpy as np\n",
        "\n",
        "# torch.from_numpy(ndarray) --> Tensor\n",
        "x1 = np.ndarray(shape=(2,3), dtype=int, buffer=np.array([1,2,3,4,5,6]))\n",
        "x2 = torch.from_numpy(x1)\n",
        "x1,x2\n"
      ],
      "metadata": {
        "colab": {
          "base_uri": "https://localhost:8080/"
        },
        "id": "TrpC_iRa078s",
        "outputId": "f0a65e1c-af27-42ec-a4dc-f133987c396b"
      },
      "execution_count": 14,
      "outputs": [
        {
          "output_type": "execute_result",
          "data": {
            "text/plain": [
              "(array([[1, 2, 3],\n",
              "        [4, 5, 6]]),\n",
              " tensor([[1, 2, 3],\n",
              "         [4, 5, 6]]))"
            ]
          },
          "metadata": {},
          "execution_count": 14
        }
      ]
    },
    {
      "cell_type": "code",
      "source": [
        "# torch.numpy() --> ndarray\n",
        "x3 = x2.numpy()\n",
        "x3"
      ],
      "metadata": {
        "colab": {
          "base_uri": "https://localhost:8080/"
        },
        "id": "q3huqY372AHk",
        "outputId": "fb55e303-542f-4d65-f3e7-c5638191819e"
      },
      "execution_count": 15,
      "outputs": [
        {
          "output_type": "execute_result",
          "data": {
            "text/plain": [
              "array([[1, 2, 3],\n",
              "       [4, 5, 6]])"
            ]
          },
          "metadata": {},
          "execution_count": 15
        }
      ]
    },
    {
      "cell_type": "markdown",
      "source": [
        "# **5) Tensor on CPU & GPU**"
      ],
      "metadata": {
        "id": "uIEyZej42Q-L"
      }
    },
    {
      "cell_type": "code",
      "source": [
        "x = torch.FloatTensor([[1,2,3],[4,5,6]])\n",
        "x"
      ],
      "metadata": {
        "colab": {
          "base_uri": "https://localhost:8080/"
        },
        "id": "FX62lXj-2W6i",
        "outputId": "03fee4df-d113-4d5d-dbee-5aa4654f6d61"
      },
      "execution_count": 16,
      "outputs": [
        {
          "output_type": "execute_result",
          "data": {
            "text/plain": [
              "tensor([[1., 2., 3.],\n",
              "        [4., 5., 6.]])"
            ]
          },
          "metadata": {},
          "execution_count": 16
        }
      ]
    },
    {
      "cell_type": "code",
      "source": [
        "x_gpu = x.cuda()\n",
        "x_gpu"
      ],
      "metadata": {
        "colab": {
          "base_uri": "https://localhost:8080/"
        },
        "id": "uMuysLaP2n2P",
        "outputId": "20592397-7833-4cf9-aaf8-22673afe2c87"
      },
      "execution_count": 17,
      "outputs": [
        {
          "output_type": "execute_result",
          "data": {
            "text/plain": [
              "tensor([[1., 2., 3.],\n",
              "        [4., 5., 6.]], device='cuda:0')"
            ]
          },
          "metadata": {},
          "execution_count": 17
        }
      ]
    },
    {
      "cell_type": "markdown",
      "source": [
        "# **6) Tensor size**"
      ],
      "metadata": {
        "id": "7Z20BvDy269M"
      }
    },
    {
      "cell_type": "code",
      "source": [
        "# tensor.size()  --> 인덱스값이\n",
        "x = torch.FloatTensor(10, 12, 3, 3)\n",
        "x.size()"
      ],
      "metadata": {
        "colab": {
          "base_uri": "https://localhost:8080/"
        },
        "id": "JqzqB-Y23BbD",
        "outputId": "e9d50c94-5fbb-4065-8600-4555599d411a"
      },
      "execution_count": 25,
      "outputs": [
        {
          "output_type": "execute_result",
          "data": {
            "text/plain": [
              "torch.Size([10, 12, 3, 3])"
            ]
          },
          "metadata": {},
          "execution_count": 25
        }
      ]
    },
    {
      "cell_type": "markdown",
      "source": [
        "# **2. Indexing, Slicing, Joining**\n",
        "\n",
        "*1)Indexing*"
      ],
      "metadata": {
        "id": "4J-m55nX3y88"
      }
    },
    {
      "cell_type": "code",
      "source": [
        "# torch.index_select(input, dim, index)\n",
        "x = torch.rand(4,3)\n",
        "out = torch.index_select(x, 0, torch.LongTensor([0,3]))\n",
        "\n",
        "x, out"
      ],
      "metadata": {
        "colab": {
          "base_uri": "https://localhost:8080/"
        },
        "id": "euiGekR5364r",
        "outputId": "4823cbe7-3611-487b-ec07-21f2defbfea5"
      },
      "execution_count": 26,
      "outputs": [
        {
          "output_type": "execute_result",
          "data": {
            "text/plain": [
              "(tensor([[0.7189, 0.7412, 0.8012],\n",
              "         [0.3285, 0.3271, 0.8779],\n",
              "         [0.4381, 0.0894, 0.8089],\n",
              "         [0.8794, 0.2503, 0.9712]]),\n",
              " tensor([[0.7189, 0.7412, 0.8012],\n",
              "         [0.8794, 0.2503, 0.9712]]))"
            ]
          },
          "metadata": {},
          "execution_count": 26
        }
      ]
    },
    {
      "cell_type": "code",
      "source": [
        "# python indexing 사용 가능\n",
        "x[:, 0], x[0, :], x[0:2, 0:2]"
      ],
      "metadata": {
        "colab": {
          "base_uri": "https://localhost:8080/"
        },
        "id": "CSNSV0d04u0b",
        "outputId": "e4b64fad-1bfa-47da-9a85-a6a53cb601b9"
      },
      "execution_count": 27,
      "outputs": [
        {
          "output_type": "execute_result",
          "data": {
            "text/plain": [
              "(tensor([0.7189, 0.3285, 0.4381, 0.8794]),\n",
              " tensor([0.7189, 0.7412, 0.8012]),\n",
              " tensor([[0.7189, 0.7412],\n",
              "         [0.3285, 0.3271]]))"
            ]
          },
          "metadata": {},
          "execution_count": 27
        }
      ]
    },
    {
      "cell_type": "code",
      "source": [
        "# torch.masked_select(input, mask)\n",
        "x = torch.randn(2,3)\n",
        "mask = torch.BoolTensor([[0,0,1],[0, 1, 0]])\n",
        "out = torch.masked_select(x,mask)\n",
        "out"
      ],
      "metadata": {
        "colab": {
          "base_uri": "https://localhost:8080/"
        },
        "id": "opxdVlCm5i3T",
        "outputId": "1c1398a3-08a4-48a8-c398-f0ea54d03609"
      },
      "execution_count": 34,
      "outputs": [
        {
          "output_type": "execute_result",
          "data": {
            "text/plain": [
              "tensor([-0.9219,  1.6499])"
            ]
          },
          "metadata": {},
          "execution_count": 34
        }
      ]
    },
    {
      "cell_type": "markdown",
      "source": [
        "# **2) Joining**"
      ],
      "metadata": {
        "id": "_EyRuj5s6tQ1"
      }
    },
    {
      "cell_type": "code",
      "source": [
        "# torch.cat(seq, dim=0)\n",
        "x = torch.FloatTensor([[1,2,3], [4,5,6]])\n",
        "y = torch.FloatTensor([[-1,-2,-3], [-4,-5,-6]])\n",
        "\n",
        "z1 = torch.cat([x, y], dim=0)  # dim=0 (행), 아래에 합쳐짐\n",
        "z2 = torch.cat([x, y], dim=1)  # dim=1 (열), 옆에 합쳐짐\n",
        "x,y,z1,z2"
      ],
      "metadata": {
        "colab": {
          "base_uri": "https://localhost:8080/"
        },
        "id": "oG71cpP66zgC",
        "outputId": "21e7df1d-220b-4abf-8aa6-a55569921561"
      },
      "execution_count": 42,
      "outputs": [
        {
          "output_type": "execute_result",
          "data": {
            "text/plain": [
              "(tensor([[1., 2., 3.],\n",
              "         [4., 5., 6.]]),\n",
              " tensor([[-1., -2., -3.],\n",
              "         [-4., -5., -6.]]),\n",
              " tensor([[ 1.,  2.,  3.],\n",
              "         [ 4.,  5.,  6.],\n",
              "         [-1., -2., -3.],\n",
              "         [-4., -5., -6.]]),\n",
              " tensor([[ 1.,  2.,  3., -1., -2., -3.],\n",
              "         [ 4.,  5.,  6., -4., -5., -6.]]))"
            ]
          },
          "metadata": {},
          "execution_count": 42
        }
      ]
    },
    {
      "cell_type": "code",
      "source": [
        "# torch.stack(sequence, dim=0) --> 새로운 차원으로 추가\n",
        "x = torch.FloatTensor([[1,2,3], [4,5,6]]) # (2,3) shape 2행 3열 2차원\n",
        "x_stack = torch.stack([x, x, x, x], dim=0) # (4, 2, 3)  4면 2행 3열 3차원\n",
        "x, x_stack"
      ],
      "metadata": {
        "colab": {
          "base_uri": "https://localhost:8080/"
        },
        "id": "0adWyIOM_-Qf",
        "outputId": "c3e1777c-f894-4121-9df4-08dfb6a66fb9"
      },
      "execution_count": 45,
      "outputs": [
        {
          "output_type": "execute_result",
          "data": {
            "text/plain": [
              "(tensor([[1., 2., 3.],\n",
              "         [4., 5., 6.]]),\n",
              " tensor([[[1., 2., 3.],\n",
              "          [4., 5., 6.]],\n",
              " \n",
              "         [[1., 2., 3.],\n",
              "          [4., 5., 6.]],\n",
              " \n",
              "         [[1., 2., 3.],\n",
              "          [4., 5., 6.]],\n",
              " \n",
              "         [[1., 2., 3.],\n",
              "          [4., 5., 6.]]]))"
            ]
          },
          "metadata": {},
          "execution_count": 45
        }
      ]
    },
    {
      "cell_type": "markdown",
      "source": [
        "# **3) Slicing**"
      ],
      "metadata": {
        "id": "NZMwubZAAwoy"
      }
    },
    {
      "cell_type": "code",
      "source": [
        "# torch.chunk(tensor, chunks, dim=0)\n",
        "x_1, x_2 = torch.chunk(z1, 2, dim =0) # dim=0이면 행을 2개로 분할 (여기서 2 는 chuck갯수)\n",
        "x_1, x_2"
      ],
      "metadata": {
        "colab": {
          "base_uri": "https://localhost:8080/"
        },
        "id": "htehNuz7AvcT",
        "outputId": "bbd1231a-3301-4bfa-ab10-75548e6b2f29"
      },
      "execution_count": 49,
      "outputs": [
        {
          "output_type": "execute_result",
          "data": {
            "text/plain": [
              "(tensor([[1., 2., 3.],\n",
              "         [4., 5., 6.]]),\n",
              " tensor([[-1., -2., -3.],\n",
              "         [-4., -5., -6.]]))"
            ]
          },
          "metadata": {},
          "execution_count": 49
        }
      ]
    },
    {
      "cell_type": "code",
      "source": [
        "y_1, y_2, y_3 = torch.chunk(z1, 3, dim =1) # dim =1 이면 열을 3개로 분할\n",
        "y_1, y_2, y_3"
      ],
      "metadata": {
        "colab": {
          "base_uri": "https://localhost:8080/"
        },
        "id": "CHOeDImtBX8e",
        "outputId": "99ee8a5a-f1f8-40fa-fe43-2987ca1a8ea5"
      },
      "execution_count": 50,
      "outputs": [
        {
          "output_type": "execute_result",
          "data": {
            "text/plain": [
              "(tensor([[ 1.],\n",
              "         [ 4.],\n",
              "         [-1.],\n",
              "         [-4.]]),\n",
              " tensor([[ 2.],\n",
              "         [ 5.],\n",
              "         [-2.],\n",
              "         [-5.]]),\n",
              " tensor([[ 3.],\n",
              "         [ 6.],\n",
              "         [-3.],\n",
              "         [-6.]]))"
            ]
          },
          "metadata": {},
          "execution_count": 50
        }
      ]
    },
    {
      "cell_type": "code",
      "source": [
        "# torch.split(tensor, split_size, dim=0)\n",
        "x1, x2 = torch.split(z1, 2, dim=0)\n",
        "y1 = torch.split(z1, 2, dim=1) # 3개 열을 2개로 분리한 경우\n",
        "\n",
        "z1, x1, x2,y1"
      ],
      "metadata": {
        "colab": {
          "base_uri": "https://localhost:8080/"
        },
        "id": "B0lwP6s7Bo93",
        "outputId": "43115ca4-38d1-404f-c08a-121fb46e3313"
      },
      "execution_count": 52,
      "outputs": [
        {
          "output_type": "execute_result",
          "data": {
            "text/plain": [
              "(tensor([[ 1.,  2.],\n",
              "         [ 4.,  5.],\n",
              "         [-1., -2.],\n",
              "         [-4., -5.]]),\n",
              " tensor([[ 3.],\n",
              "         [ 6.],\n",
              "         [-3.],\n",
              "         [-6.]]))"
            ]
          },
          "metadata": {},
          "execution_count": 52
        }
      ]
    },
    {
      "cell_type": "markdown",
      "source": [
        "# **4) squeezing**"
      ],
      "metadata": {
        "id": "PFL2WjTOCriv"
      }
    },
    {
      "cell_type": "code",
      "source": [
        "# torch.squeeze(input, dim=None) #숫자가 1인 차원을 제거\n",
        "x1 = torch.FloatTensor(10, 1, 3, 14)\n",
        "# 차원(dimension) 의 개념\n",
        "# 10 : batch size (데이터 한 묶음당 들어있는 데이터(x,y)쌍의 갯수)\n",
        "# 1 : channel size\n",
        "# 3 : with image size\n",
        "# 14 : height image size\n",
        "\n",
        "x2 = torch.squeeze(x1)\n",
        "\n",
        "x1.size(), x2.size()"
      ],
      "metadata": {
        "colab": {
          "base_uri": "https://localhost:8080/"
        },
        "id": "LmVUvsmPCqPH",
        "outputId": "0b16a35c-0746-42f3-d07f-345eaa5b0d81"
      },
      "execution_count": 53,
      "outputs": [
        {
          "output_type": "execute_result",
          "data": {
            "text/plain": [
              "(torch.Size([10, 1, 3, 14]), torch.Size([10, 3, 14]))"
            ]
          },
          "metadata": {},
          "execution_count": 53
        }
      ]
    },
    {
      "cell_type": "code",
      "source": [
        "# torch.unsqueeze(input, dim=None) ---> 숫자 1을 추가\n",
        "x1 = torch.FloatTensor(10, 3, 4)\n",
        "x2 = torch.unsqueeze(x1, dim=0) # dim=0 이면 첫번째 위치에 추가\n",
        "\n",
        "x1.size(), x2.size()"
      ],
      "metadata": {
        "colab": {
          "base_uri": "https://localhost:8080/"
        },
        "id": "jrKtiCNKDuu2",
        "outputId": "4629a25f-a50b-4a33-8d9d-cf49d677dd56"
      },
      "execution_count": 55,
      "outputs": [
        {
          "output_type": "execute_result",
          "data": {
            "text/plain": [
              "(torch.Size([10, 3, 4]), torch.Size([1, 10, 3, 4]))"
            ]
          },
          "metadata": {},
          "execution_count": 55
        }
      ]
    },
    {
      "cell_type": "markdown",
      "source": [
        "# **3. Initialization**"
      ],
      "metadata": {
        "id": "gA_3MAx5EbWq"
      }
    },
    {
      "cell_type": "code",
      "source": [
        "import torch.nn.init as init"
      ],
      "metadata": {
        "id": "VDXmAZrWEkN9"
      },
      "execution_count": 56,
      "outputs": []
    },
    {
      "cell_type": "code",
      "source": [
        "x1 = init.uniform(torch.FloatTensor(3,4), a=0, b=9) # a에서 b사이의 값으로 초기화\n",
        "x2 = init.normal(torch.FloatTensor(3,4), std=0.2) # 표준편차가 0.2 적용 초기화\n",
        "x3 = init.constant(torch.FloatTensor(3,4), 3.145) # 지정된 상수값으로 초기화\n",
        "\n",
        "x1, x2, x3"
      ],
      "metadata": {
        "colab": {
          "base_uri": "https://localhost:8080/"
        },
        "id": "8d1D8R5sEq7M",
        "outputId": "2e6e342a-b773-41c9-ed3d-81b900926e28"
      },
      "execution_count": 61,
      "outputs": [
        {
          "output_type": "stream",
          "name": "stderr",
          "text": [
            "<ipython-input-61-3a46738e0000>:1: UserWarning: nn.init.uniform is now deprecated in favor of nn.init.uniform_.\n",
            "  x1 = init.uniform(torch.FloatTensor(3,4), a=0, b=9) # a에서 b사이의 값으로 초기화\n",
            "<ipython-input-61-3a46738e0000>:2: UserWarning: nn.init.normal is now deprecated in favor of nn.init.normal_.\n",
            "  x2 = init.normal(torch.FloatTensor(3,4), std=0.2) # 표준편차가 0.2 적용 초기화\n",
            "<ipython-input-61-3a46738e0000>:3: UserWarning: nn.init.constant is now deprecated in favor of nn.init.constant_.\n",
            "  x3 = init.constant(torch.FloatTensor(3,4), 3.145) # 지정된 상수값으로 초기화\n"
          ]
        },
        {
          "output_type": "execute_result",
          "data": {
            "text/plain": [
              "(tensor([[0.2089, 7.4604, 0.1894, 7.3652],\n",
              "         [7.2142, 2.7827, 4.8648, 8.2510],\n",
              "         [4.2807, 1.8686, 8.2181, 8.1188]]),\n",
              " tensor([[-0.0257,  0.1829,  0.1962, -0.1558],\n",
              "         [ 0.0638,  0.0691, -0.5402,  0.1203],\n",
              "         [ 0.1785,  0.2640,  0.2910, -0.0898]]),\n",
              " tensor([[3.1450, 3.1450, 3.1450, 3.1450],\n",
              "         [3.1450, 3.1450, 3.1450, 3.1450],\n",
              "         [3.1450, 3.1450, 3.1450, 3.1450]]))"
            ]
          },
          "metadata": {},
          "execution_count": 61
        }
      ]
    },
    {
      "cell_type": "markdown",
      "source": [
        "# **4. Math Operations**\n",
        "1) Arithmetic operations"
      ],
      "metadata": {
        "id": "4Py_uTEiGDWu"
      }
    },
    {
      "cell_type": "code",
      "source": [
        "# torch.add()\n",
        "x1 = torch.FloatTensor([[1,2,3],[4,5,6]])\n",
        "x2 = torch.FloatTensor([[1,2,3],[4,5,6]])\n",
        "add = torch.add(x1, x2)\n",
        "\n",
        "x1, x2, add, x1 + x2, x1-x2"
      ],
      "metadata": {
        "colab": {
          "base_uri": "https://localhost:8080/"
        },
        "id": "5ViBxZmnGKOG",
        "outputId": "667d86d6-a834-4559-abb4-d220661e113d"
      },
      "execution_count": 62,
      "outputs": [
        {
          "output_type": "execute_result",
          "data": {
            "text/plain": [
              "(tensor([[1., 2., 3.],\n",
              "         [4., 5., 6.]]),\n",
              " tensor([[1., 2., 3.],\n",
              "         [4., 5., 6.]]),\n",
              " tensor([[ 2.,  4.,  6.],\n",
              "         [ 8., 10., 12.]]),\n",
              " tensor([[ 2.,  4.,  6.],\n",
              "         [ 8., 10., 12.]]),\n",
              " tensor([[0., 0., 0.],\n",
              "         [0., 0., 0.]]))"
            ]
          },
          "metadata": {},
          "execution_count": 62
        }
      ]
    },
    {
      "cell_type": "code",
      "source": [
        "x1 = torch.FloatTensor([[1,2,3],[4,5,6]])\n",
        "x2 = torch.add(x1,10)\n",
        "\n",
        "x1, x2, x1 + 10"
      ],
      "metadata": {
        "colab": {
          "base_uri": "https://localhost:8080/"
        },
        "id": "yi39ErUXHG4N",
        "outputId": "bd88e8ea-5e5f-44d1-d7a6-515f57b056b2"
      },
      "execution_count": 63,
      "outputs": [
        {
          "output_type": "execute_result",
          "data": {
            "text/plain": [
              "(tensor([[1., 2., 3.],\n",
              "         [4., 5., 6.]]),\n",
              " tensor([[11., 12., 13.],\n",
              "         [14., 15., 16.]]),\n",
              " tensor([[11., 12., 13.],\n",
              "         [14., 15., 16.]]))"
            ]
          },
          "metadata": {},
          "execution_count": 63
        }
      ]
    },
    {
      "cell_type": "code",
      "source": [
        "# torch.mul() 곱하기\n",
        "x1 = torch.FloatTensor([[1,2,3],[4,5,6]])\n",
        "x2 = torch.FloatTensor([[1,2,3],[4,5,6]])\n",
        "x3 = torch.mul(x1,x2)\n",
        "x3, x1 * x2"
      ],
      "metadata": {
        "colab": {
          "base_uri": "https://localhost:8080/"
        },
        "id": "F2I70tGXHWas",
        "outputId": "613bf268-2411-4b6c-a305-939335fc08a6"
      },
      "execution_count": 64,
      "outputs": [
        {
          "output_type": "execute_result",
          "data": {
            "text/plain": [
              "(tensor([[ 1.,  4.,  9.],\n",
              "         [16., 25., 36.]]),\n",
              " tensor([[ 1.,  4.,  9.],\n",
              "         [16., 25., 36.]]))"
            ]
          },
          "metadata": {},
          "execution_count": 64
        }
      ]
    },
    {
      "cell_type": "code",
      "source": [
        "# torch.div() 나누기\n",
        "x1 = torch.FloatTensor([[1,2,3],[4,5,6]])\n",
        "x2 = torch.div(x1, 5)\n",
        "\n",
        "x1, x2, x1 /5"
      ],
      "metadata": {
        "colab": {
          "base_uri": "https://localhost:8080/"
        },
        "id": "pOqXQ-irHsIF",
        "outputId": "cba37656-e3a8-41aa-f82d-629410dec759"
      },
      "execution_count": 65,
      "outputs": [
        {
          "output_type": "execute_result",
          "data": {
            "text/plain": [
              "(tensor([[1., 2., 3.],\n",
              "         [4., 5., 6.]]),\n",
              " tensor([[0.2000, 0.4000, 0.6000],\n",
              "         [0.8000, 1.0000, 1.2000]]),\n",
              " tensor([[0.2000, 0.4000, 0.6000],\n",
              "         [0.8000, 1.0000, 1.2000]]))"
            ]
          },
          "metadata": {},
          "execution_count": 65
        }
      ]
    },
    {
      "cell_type": "markdown",
      "source": [
        "# **2) Other Math Operations**"
      ],
      "metadata": {
        "id": "lf1vuITzIPTU"
      }
    },
    {
      "cell_type": "code",
      "source": [
        "# torch.pow(input, exponent)\n",
        "x1 = torch.FloatTensor([[1,2,3],[4,5,6]])\n",
        "\n",
        "x1, torch.pow(x1, 2), x1**2"
      ],
      "metadata": {
        "colab": {
          "base_uri": "https://localhost:8080/"
        },
        "id": "8-aZC7uOIOys",
        "outputId": "3ba8e3f6-d2fc-41f9-b456-eab084eb7338"
      },
      "execution_count": 67,
      "outputs": [
        {
          "output_type": "execute_result",
          "data": {
            "text/plain": [
              "(tensor([[1., 2., 3.],\n",
              "         [4., 5., 6.]]),\n",
              " tensor([[ 1.,  4.,  9.],\n",
              "         [16., 25., 36.]]),\n",
              " tensor([[ 1.,  4.,  9.],\n",
              "         [16., 25., 36.]]))"
            ]
          },
          "metadata": {},
          "execution_count": 67
        }
      ]
    },
    {
      "cell_type": "code",
      "source": [
        "# torch.exp(tensor, out=None)\n",
        "x1 = torch.FloatTensor([[1,2,3],[4,5,6]])\n",
        "out = torch.exp(x1)\n",
        "\n",
        "x1,out"
      ],
      "metadata": {
        "colab": {
          "base_uri": "https://localhost:8080/"
        },
        "id": "PKF9XslfIlL9",
        "outputId": "afe6cb20-a2a1-4937-a522-909d1dd26a6f"
      },
      "execution_count": 71,
      "outputs": [
        {
          "output_type": "execute_result",
          "data": {
            "text/plain": [
              "(tensor([[1., 2., 3.],\n",
              "         [4., 5., 6.]]),\n",
              " tensor([[  2.7183,   7.3891,  20.0855],\n",
              "         [ 54.5981, 148.4132, 403.4288]]))"
            ]
          },
          "metadata": {},
          "execution_count": 71
        }
      ]
    },
    {
      "cell_type": "code",
      "source": [
        "# torch.log(input, out=None) 자연로그 계산\n",
        "x1 = torch.FloatTensor([[1,2,3],[4,5,6]])\n",
        "out = torch.log(x1)\n",
        "\n",
        "x1,out"
      ],
      "metadata": {
        "colab": {
          "base_uri": "https://localhost:8080/"
        },
        "id": "9snf9YOzI-Gs",
        "outputId": "88f0f2b8-8030-4aef-9abc-055bce98d76c"
      },
      "execution_count": 72,
      "outputs": [
        {
          "output_type": "execute_result",
          "data": {
            "text/plain": [
              "(tensor([[1., 2., 3.],\n",
              "         [4., 5., 6.]]),\n",
              " tensor([[0.0000, 0.6931, 1.0986],\n",
              "         [1.3863, 1.6094, 1.7918]]))"
            ]
          },
          "metadata": {},
          "execution_count": 72
        }
      ]
    },
    {
      "cell_type": "markdown",
      "source": [
        "# **3) Matrix opeation**"
      ],
      "metadata": {
        "id": "ChGseTJ9JZqc"
      }
    },
    {
      "cell_type": "code",
      "source": [
        "# torch.mm(mat1, mat2) --> matrix multiplication (행렬곱)\n",
        "x1 = torch.FloatTensor(3,4)\n",
        "x2 = torch.FloatTensor(4,5)\n",
        "out = torch.mm(x1,x2)\n",
        "x1, x2, out"
      ],
      "metadata": {
        "colab": {
          "base_uri": "https://localhost:8080/"
        },
        "id": "FULnxcAZJcVL",
        "outputId": "1120eca1-ce14-49eb-c237-94acdb437f25"
      },
      "execution_count": 73,
      "outputs": [
        {
          "output_type": "execute_result",
          "data": {
            "text/plain": [
              "(tensor([[ 4.0995e+37,  3.1692e-41,  4.0997e+37,  3.1692e-41],\n",
              "         [ 1.1210e-43,  0.0000e+00,  8.9683e-44,  0.0000e+00],\n",
              "         [-1.9584e+34,  3.1699e-41,  0.0000e+00,  0.0000e+00]]),\n",
              " tensor([[-1.2308e+30,  4.4044e-41,  1.6245e+34,  3.1692e-41,  4.4842e-44],\n",
              "         [ 0.0000e+00,  1.5695e-43,  0.0000e+00, -3.2610e+37,  3.1699e-41],\n",
              "         [ 6.1657e-44,  7.1466e-44,  1.3032e-43,  6.1657e-44,  1.2752e-43],\n",
              "         [ 7.2868e-44,  6.1657e-44,  7.4269e-44,  6.1657e-44,  7.5670e-44]]),\n",
              " tensor([[       -inf,  1.8085e-03,         inf,  2.6825e-04,  7.0661e-06],\n",
              "         [-1.3797e-13,  0.0000e+00,  1.8211e-09,  0.0000e+00,  0.0000e+00],\n",
              "         [        inf, -8.6254e-07,        -inf, -1.0343e-03, -8.7816e-10]]))"
            ]
          },
          "metadata": {},
          "execution_count": 73
        }
      ]
    },
    {
      "cell_type": "code",
      "source": [
        "# torch.bmm(batch1, batch2) --> batch 행렬곱 연산\n",
        "# 맨 앞의 batch 는 차원을 유지하면서, 뒤 요소들의 행렬곱 연산함\n",
        "\n",
        "x1 = torch.FloatTensor(10, 3, 4)\n",
        "x2 = torch.FloatTensor(10, 4, 5)\n",
        "out = torch.bmm(x1, x2)\n",
        "\n",
        "out.size()"
      ],
      "metadata": {
        "colab": {
          "base_uri": "https://localhost:8080/"
        },
        "id": "QdqC65XUNiQB",
        "outputId": "e23c2ee7-ea0f-475f-a0a0-101976be0ad3"
      },
      "execution_count": 74,
      "outputs": [
        {
          "output_type": "execute_result",
          "data": {
            "text/plain": [
              "torch.Size([10, 3, 5])"
            ]
          },
          "metadata": {},
          "execution_count": 74
        }
      ]
    },
    {
      "cell_type": "code",
      "source": [
        "# torch.dot(tensor1, tensor2) : 벡터의 내적을 구함\n",
        "\n",
        "x1 = torch.FloatTensor([1,2,3,4])\n",
        "x2 = torch.FloatTensor([2,3,4,5])\n",
        "\n",
        "torch.dot(x1, x2)"
      ],
      "metadata": {
        "colab": {
          "base_uri": "https://localhost:8080/"
        },
        "id": "s0FuzW3WOOiq",
        "outputId": "b21cd14c-4393-4d2f-892e-fd5c0ca7a1d4"
      },
      "execution_count": 75,
      "outputs": [
        {
          "output_type": "execute_result",
          "data": {
            "text/plain": [
              "tensor(40.)"
            ]
          },
          "metadata": {},
          "execution_count": 75
        }
      ]
    },
    {
      "cell_type": "code",
      "source": [
        "# torch.t(matrix) : transposed matrix (텐서의 전치 연산)\n",
        "# 행과 열을 바꿈\n",
        "\n",
        "x1 = torch.FloatTensor(3,4)\n",
        "\n",
        "x1, x1.t()"
      ],
      "metadata": {
        "colab": {
          "base_uri": "https://localhost:8080/"
        },
        "id": "N0UNKGZ5Oy5a",
        "outputId": "9c314f09-21cb-418b-cdaf-9120dd7210c6"
      },
      "execution_count": 81,
      "outputs": [
        {
          "output_type": "execute_result",
          "data": {
            "text/plain": [
              "(tensor([[ 4.1960e+37,  3.1692e-41, -1.2308e+30,  4.4044e-41],\n",
              "         [ 8.9683e-44,  0.0000e+00,  1.1210e-43,  0.0000e+00],\n",
              "         [-1.3694e+36,  3.1699e-41,  1.3593e-43,  0.0000e+00]]),\n",
              " tensor([[ 4.1960e+37,  8.9683e-44, -1.3694e+36],\n",
              "         [ 3.1692e-41,  0.0000e+00,  3.1699e-41],\n",
              "         [-1.2308e+30,  1.1210e-43,  1.3593e-43],\n",
              "         [ 4.4044e-41,  0.0000e+00,  0.0000e+00]]))"
            ]
          },
          "metadata": {},
          "execution_count": 81
        }
      ]
    },
    {
      "cell_type": "code",
      "source": [
        "# torch.transpose(input, dim_0, dim_1)\n",
        "# 바꿀 차원을 2개 지정함\n",
        "# 텐서의 내부 차원간 바꾸기\n",
        "\n",
        "x1 = torch.FloatTensor(10, 3, 4)\n",
        "\n",
        "# 1차원과 2차원을 서로 바꿈\n",
        "x1.size(), torch.transpose(x1, 1, 2).size(), x1.transpose(1,2).size()"
      ],
      "metadata": {
        "colab": {
          "base_uri": "https://localhost:8080/"
        },
        "id": "hzypAfHxPveZ",
        "outputId": "cae23b6e-34a8-472c-e14c-6f07271d907f"
      },
      "execution_count": 86,
      "outputs": [
        {
          "output_type": "execute_result",
          "data": {
            "text/plain": [
              "(torch.Size([10, 3, 4]), torch.Size([10, 4, 3]), torch.Size([10, 4, 3]))"
            ]
          },
          "metadata": {},
          "execution_count": 86
        }
      ]
    },
    {
      "cell_type": "code",
      "source": [
        "# torch.eig(input, eigenvectors=False)\n",
        "# 고유값(eigen_value), 고유백터(eigen_vector) 반환\n",
        "x1 = torch.FloatTensor(4,4)\n",
        "x1, torch.linalg.eig(x1)"
      ],
      "metadata": {
        "colab": {
          "base_uri": "https://localhost:8080/"
        },
        "id": "Z47xqwDsQThh",
        "outputId": "61d556e5-f1d4-40f0-b235-cf9b5889e5fb"
      },
      "execution_count": 90,
      "outputs": [
        {
          "output_type": "execute_result",
          "data": {
            "text/plain": [
              "(tensor([[-1.2308e+30,  4.4044e-41,  4.1036e+37,  3.1692e-41],\n",
              "         [ 0.0000e+00,  0.0000e+00,  0.0000e+00,  0.0000e+00],\n",
              "         [ 0.0000e+00,  0.0000e+00,  7.7052e+31,  7.2148e+22],\n",
              "         [ 1.5766e-19,  1.0256e-08,  6.5631e-07,  3.1816e+12]]),\n",
              " torch.return_types.linalg_eig(\n",
              " eigenvalues=tensor([-1.2308e+30+0.j,  3.1816e+12+0.j,  7.7052e+31+0.j,  0.0000e+00+0.j]),\n",
              " eigenvectors=tensor([[ 1.0000e+00+0.j,  0.0000e+00+0.j,  1.0000e+00+0.j,  0.0000e+00+0.j],\n",
              "         [ 0.0000e+00+0.j,  0.0000e+00+0.j,  0.0000e+00+0.j,  1.0000e+00+0.j],\n",
              "         [ 0.0000e+00+0.j,  0.0000e+00+0.j,  1.9077e-06+0.j,  0.0000e+00+0.j],\n",
              "         [ 0.0000e+00+0.j,  1.0000e+00+0.j,  1.6816e-44+0.j, -3.2235e-21+0.j]])))"
            ]
          },
          "metadata": {},
          "execution_count": 90
        }
      ]
    }
  ]
}