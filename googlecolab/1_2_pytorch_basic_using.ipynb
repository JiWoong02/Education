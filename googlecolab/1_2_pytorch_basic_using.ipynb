{
  "nbformat": 4,
  "nbformat_minor": 0,
  "metadata": {
    "colab": {
      "provenance": [],
      "gpuType": "T4"
    },
    "kernelspec": {
      "name": "python3",
      "display_name": "Python 3"
    },
    "language_info": {
      "name": "python"
    },
    "accelerator": "GPU"
  },
  "cells": [
    {
      "cell_type": "markdown",
      "source": [
        "# PyTorch Tensor Basic Usage\n",
        "\n",
        "- Create Tensor\n",
        "- indexing, Joining, Slicing\n",
        "- Initialization\n",
        "- Math Operations"
      ],
      "metadata": {
        "id": "R_lTI_7mWoJR"
      }
    },
    {
      "cell_type": "code",
      "execution_count": 2,
      "metadata": {
        "colab": {
          "base_uri": "https://localhost:8080/"
        },
        "id": "GX--5IAsWBdc",
        "outputId": "d0b158d9-8d67-4ca1-b61c-9606121de39e"
      },
      "outputs": [
        {
          "output_type": "execute_result",
          "data": {
            "text/plain": [
              "tensor([[0.6341, 0.4345, 0.8984],\n",
              "        [0.2206, 0.8919, 0.1821]])"
            ]
          },
          "metadata": {},
          "execution_count": 2
        }
      ],
      "source": [
        "# 1. Create Tensor\n",
        "# 1) random numbers\n",
        "import torch\n",
        "\n",
        "# torch.rand(sizes) --> (0,1) 사이의 실수형 값을 랜덤값으로 발생함\n",
        "# sizes : 1차원 갯수, 2차원 행렬갯수 등 지정\n",
        "# 0과 1사이의 실수형 숫자를 균등하게 생성\n",
        "x = torch.rand(2, 3)\n",
        "x"
      ]
    },
    {
      "cell_type": "code",
      "source": [
        "# torch.randn(sizes) --> Z(0,1)\n",
        "# 평균이 0이고 표준편차가 1인 가우시안 정규분포를 이용해서 생성 # numpy의 randn하고는 차이가 있다.\n",
        "x = torch.randn(2,3)\n",
        "x"
      ],
      "metadata": {
        "colab": {
          "base_uri": "https://localhost:8080/"
        },
        "id": "c6UkXAcCYith",
        "outputId": "c586877a-dc43-4ccb-d7ef-bb803f1e459a"
      },
      "execution_count": 3,
      "outputs": [
        {
          "output_type": "execute_result",
          "data": {
            "text/plain": [
              "tensor([[ 0.6051, -0.1206,  0.0131],\n",
              "        [ 0.6021, -1.5659, -2.1001]])"
            ]
          },
          "metadata": {},
          "execution_count": 3
        }
      ]
    },
    {
      "cell_type": "code",
      "source": [
        "# torch.randperm(n) --> permutation of 0 ~ n\n",
        "x = torch.randperm(5)\n",
        "x"
      ],
      "metadata": {
        "colab": {
          "base_uri": "https://localhost:8080/"
        },
        "id": "r5PzQQ1bZEHo",
        "outputId": "2304d9b9-fe0a-4508-ea2b-d2ecc814b497"
      },
      "execution_count": 4,
      "outputs": [
        {
          "output_type": "execute_result",
          "data": {
            "text/plain": [
              "tensor([4, 1, 0, 3, 2])"
            ]
          },
          "metadata": {},
          "execution_count": 4
        }
      ]
    },
    {
      "cell_type": "markdown",
      "source": [
        "# **torch 에서 랜덤값으로 텐서 생성 **\n",
        "1. torch.rand() : 0과 1사이의 숫자를 균등하게 생성\n",
        "2. torch.rand_like() : 사이즈를 튜플로 입력하지 않고 기존의 텐서로 정의\n",
        "3. torch.randn() : 평균이 0이고 표준편차가 1인 가우시안 정규분포를 이용해서 생성\n",
        "4. torch.randn_like() : 기존의 텐서를 사용해서 같은 텐서를 생성\n",
        "5. torch.randint() : 주어진 범위 내의 정수를 균등하게 생성\n",
        "6. torch.randint_like() : 텐서 이용, 같은 텐서 생성\n",
        "7. torch.randperm() : 주어진 범위 내의 정수를 랜덤하게 생성"
      ],
      "metadata": {
        "id": "yVTw3fG6Zj75"
      }
    }
  ]
}